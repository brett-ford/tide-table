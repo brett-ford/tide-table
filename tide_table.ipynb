{
 "cells": [
  {
   "cell_type": "markdown",
   "metadata": {},
   "source": [
    "## Tide Table for Cape Lookout"
   ]
  },
  {
   "cell_type": "code",
   "execution_count": 1,
   "metadata": {},
   "outputs": [],
   "source": [
    "# Imports & Settings\n",
    "import requests as req\n",
    "import datetime as dt\n",
    "import pandas as pd  \n",
    "import numpy as np \n",
    "import matplotlib.pyplot as plt"
   ]
  },
  {
   "cell_type": "code",
   "execution_count": 2,
   "metadata": {},
   "outputs": [],
   "source": [
    "# Get and format today's date\n",
    "today = dt.date.today()\n",
    "today_string = str(today).replace('-', '')"
   ]
  },
  {
   "cell_type": "code",
   "execution_count": 3,
   "metadata": {},
   "outputs": [
    {
     "name": "stdout",
     "output_type": "stream",
     "text": [
      "{'t': '2021-04-10 00:00', 'v': '0.269'}\n",
      "{'t': '2021-04-10 00:06', 'v': '0.273'}\n",
      "{'t': '2021-04-10 00:12', 'v': '0.280'}\n",
      "{'t': '2021-04-10 00:18', 'v': '0.292'}\n",
      "{'t': '2021-04-10 00:24', 'v': '0.307'}\n"
     ]
    }
   ],
   "source": [
    "# Get the data\n",
    "url = \"https://tidesandcurrents.noaa.gov/api/datagetter?begin_date={}&end_date={}&station=8656841&product=predictions&datum=MLLW&time_zone=lst&units=english&format=json\".format(today_string, today_string)\n",
    "\n",
    "data = req.get(url).json()  # Response object formatted as json \n",
    "predictions = data['predictions']  # List of Dictionaries\n",
    "for prediction in predictions[0:5]:\n",
    "    print(prediction)"
   ]
  },
  {
   "cell_type": "code",
   "execution_count": 4,
   "metadata": {},
   "outputs": [
    {
     "data": {
      "text/html": [
       "<div>\n",
       "<style scoped>\n",
       "    .dataframe tbody tr th:only-of-type {\n",
       "        vertical-align: middle;\n",
       "    }\n",
       "\n",
       "    .dataframe tbody tr th {\n",
       "        vertical-align: top;\n",
       "    }\n",
       "\n",
       "    .dataframe thead th {\n",
       "        text-align: right;\n",
       "    }\n",
       "</style>\n",
       "<table border=\"1\" class=\"dataframe\">\n",
       "  <thead>\n",
       "    <tr style=\"text-align: right;\">\n",
       "      <th></th>\n",
       "      <th>t</th>\n",
       "      <th>v</th>\n",
       "    </tr>\n",
       "  </thead>\n",
       "  <tbody>\n",
       "    <tr>\n",
       "      <th>0</th>\n",
       "      <td>2021-04-10 00:00</td>\n",
       "      <td>0.269</td>\n",
       "    </tr>\n",
       "    <tr>\n",
       "      <th>1</th>\n",
       "      <td>2021-04-10 00:06</td>\n",
       "      <td>0.273</td>\n",
       "    </tr>\n",
       "    <tr>\n",
       "      <th>2</th>\n",
       "      <td>2021-04-10 00:12</td>\n",
       "      <td>0.280</td>\n",
       "    </tr>\n",
       "    <tr>\n",
       "      <th>3</th>\n",
       "      <td>2021-04-10 00:18</td>\n",
       "      <td>0.292</td>\n",
       "    </tr>\n",
       "    <tr>\n",
       "      <th>4</th>\n",
       "      <td>2021-04-10 00:24</td>\n",
       "      <td>0.307</td>\n",
       "    </tr>\n",
       "  </tbody>\n",
       "</table>\n",
       "</div>"
      ],
      "text/plain": [
       "                  t      v\n",
       "0  2021-04-10 00:00  0.269\n",
       "1  2021-04-10 00:06  0.273\n",
       "2  2021-04-10 00:12  0.280\n",
       "3  2021-04-10 00:18  0.292\n",
       "4  2021-04-10 00:24  0.307"
      ]
     },
     "execution_count": 4,
     "metadata": {},
     "output_type": "execute_result"
    }
   ],
   "source": [
    "# Create Pandas DataFrame\n",
    "predictions_df = pd.DataFrame.from_dict(data['predictions'])\n",
    "predictions_df.head()"
   ]
  },
  {
   "cell_type": "code",
   "execution_count": 5,
   "metadata": {},
   "outputs": [
    {
     "name": "stdout",
     "output_type": "stream",
     "text": [
      "<class 'pandas.core.frame.DataFrame'>\n",
      "RangeIndex: 240 entries, 0 to 239\n",
      "Data columns (total 2 columns):\n",
      " #   Column  Non-Null Count  Dtype \n",
      "---  ------  --------------  ----- \n",
      " 0   t       240 non-null    object\n",
      " 1   v       240 non-null    object\n",
      "dtypes: object(2)\n",
      "memory usage: 3.9+ KB\n"
     ]
    }
   ],
   "source": [
    "predictions_df.info()"
   ]
  },
  {
   "cell_type": "code",
   "execution_count": 6,
   "metadata": {},
   "outputs": [
    {
     "data": {
      "text/html": [
       "<div>\n",
       "<style scoped>\n",
       "    .dataframe tbody tr th:only-of-type {\n",
       "        vertical-align: middle;\n",
       "    }\n",
       "\n",
       "    .dataframe tbody tr th {\n",
       "        vertical-align: top;\n",
       "    }\n",
       "\n",
       "    .dataframe thead th {\n",
       "        text-align: right;\n",
       "    }\n",
       "</style>\n",
       "<table border=\"1\" class=\"dataframe\">\n",
       "  <thead>\n",
       "    <tr style=\"text-align: right;\">\n",
       "      <th></th>\n",
       "      <th>hour</th>\n",
       "      <th>height</th>\n",
       "    </tr>\n",
       "  </thead>\n",
       "  <tbody>\n",
       "    <tr>\n",
       "      <th>0</th>\n",
       "      <td>0.0</td>\n",
       "      <td>0.269</td>\n",
       "    </tr>\n",
       "    <tr>\n",
       "      <th>1</th>\n",
       "      <td>0.1</td>\n",
       "      <td>0.273</td>\n",
       "    </tr>\n",
       "    <tr>\n",
       "      <th>2</th>\n",
       "      <td>0.2</td>\n",
       "      <td>0.280</td>\n",
       "    </tr>\n",
       "    <tr>\n",
       "      <th>3</th>\n",
       "      <td>0.3</td>\n",
       "      <td>0.292</td>\n",
       "    </tr>\n",
       "    <tr>\n",
       "      <th>4</th>\n",
       "      <td>0.4</td>\n",
       "      <td>0.307</td>\n",
       "    </tr>\n",
       "  </tbody>\n",
       "</table>\n",
       "</div>"
      ],
      "text/plain": [
       "   hour  height\n",
       "0   0.0   0.269\n",
       "1   0.1   0.273\n",
       "2   0.2   0.280\n",
       "3   0.3   0.292\n",
       "4   0.4   0.307"
      ]
     },
     "execution_count": 6,
     "metadata": {},
     "output_type": "execute_result"
    }
   ],
   "source": [
    "# Rename columns and change data types \n",
    "predictions_df.rename(columns={'t': 'hour', 'v': 'height'}, inplace=True)\n",
    "predictions_df['hour'] = predictions_df['hour'].str[-5:-3].astype(int) + (predictions_df['hour'].str[-2:].astype(int))/60\n",
    "predictions_df['height'] = predictions_df['height'].astype(float)\n",
    "predictions_df.sort_values('hour')\n",
    "predictions_df.head()"
   ]
  },
  {
   "cell_type": "code",
   "execution_count": 7,
   "metadata": {},
   "outputs": [
    {
     "name": "stdout",
     "output_type": "stream",
     "text": [
      "<class 'pandas.core.frame.DataFrame'>\n",
      "RangeIndex: 240 entries, 0 to 239\n",
      "Data columns (total 2 columns):\n",
      " #   Column  Non-Null Count  Dtype  \n",
      "---  ------  --------------  -----  \n",
      " 0   hour    240 non-null    float64\n",
      " 1   height  240 non-null    float64\n",
      "dtypes: float64(2)\n",
      "memory usage: 3.9 KB\n"
     ]
    }
   ],
   "source": [
    "predictions_df.info()"
   ]
  },
  {
   "cell_type": "code",
   "execution_count": 8,
   "metadata": {},
   "outputs": [
    {
     "data": {
      "text/plain": [
       "<AxesSubplot:title={'center':'Tide Graph\\nApril 10, 2021'}, xlabel='hour', ylabel='height'>"
      ]
     },
     "execution_count": 8,
     "metadata": {},
     "output_type": "execute_result"
    },
    {
     "data": {
      "image/png": "[encoded data removed]",
      "text/plain": [
       "<Figure size 720x720 with 1 Axes>"
      ]
     },
     "metadata": {
      "needs_background": "light"
     },
     "output_type": "display_data"
    }
   ],
   "source": [
    "# Tide graph.\n",
    "predictions_df.plot(kind='scatter',\n",
    "                    x='hour', \n",
    "                    y='height', \n",
    "                    figsize=(10,10),\n",
    "                    grid='both',\n",
    "                    xticks=range(0,25),\n",
    "                    ylim=(-1, 6),\n",
    "                    title='Tide Graph\\n{:%B %d, %Y}'.format(today),\n",
    "                    fontsize=12,\n",
    "                    marker='o')"
   ]
  },
  {
   "cell_type": "code",
   "execution_count": 9,
   "metadata": {},
   "outputs": [],
   "source": [
    "# %matplotlib inline \n",
    "# plt.figure(figsize=(10, 10))\n",
    "# plt.plot(predictions_df['hour'], predictions_df['height'], marker='o')\n",
    "# plt.ylim(-1, 6)\n",
    "# plt.title(\"Tide Graph\\n{:%B %d, %Y}\".format(today), fontsize=20)\n",
    "# plt.grid(axis='both')\n",
    "# plt.xticks(range(0, 25))\n",
    "# plt.xlabel('hour')\n",
    "# plt.show()"
   ]
  },
  {
   "cell_type": "code",
   "execution_count": 10,
   "metadata": {},
   "outputs": [],
   "source": [
    "# Functions\n",
    "\n",
    "def max_tide(series):\n",
    "    \"\"\"\n",
    "    Returns list of indices for which 'height' is a relative maximum.\n",
    "    \"\"\"\n",
    "    maxima = []\n",
    "    for i in range(series.shape[0]-2):\n",
    "        if series.iloc[i] <= series.iloc[i+1] and series.iloc[i+1] >= series.iloc[i+2]:\n",
    "            maxima.append(i+1)\n",
    "    return maxima\n",
    "        \n",
    "def min_tide(series):\n",
    "    \"\"\"\n",
    "    Returns list of indices for which 'height' is a relative minimum.\n",
    "    \"\"\"\n",
    "    minima = []\n",
    "    for i in range(series.shape[0]-2):\n",
    "        if series.iloc[i] >= series.iloc[i+1] and series.iloc[i+1] <= series.iloc[i+2]:\n",
    "            minima.append(i+1) \n",
    "    return minima\n",
    "\n",
    "def hour_to_time(hpm):\n",
    "    \"\"\"\n",
    "    Converts 'hours past midnight' to 'time of day'.\n",
    "    \"\"\"\n",
    "    h = int(hpm)\n",
    "    m = int(round((hpm - h) * 60, 0))\n",
    "    if h == 0 or h == 12:\n",
    "        hour = '12' \n",
    "    else:\n",
    "        hour = str(h % 12)\n",
    "    if m < 10:\n",
    "        minute = '0' + str(m)\n",
    "    else: \n",
    "        minute = str(m)\n",
    "    if h < 12:\n",
    "        meridiam = 'AM'\n",
    "    else:\n",
    "        meridiam = 'PM'\n",
    "    return  hour + ':' + minute + ' ' + meridiam"
   ]
  },
  {
   "cell_type": "code",
   "execution_count": 11,
   "metadata": {},
   "outputs": [
    {
     "data": {
      "text/html": [
       "<div>\n",
       "<style scoped>\n",
       "    .dataframe tbody tr th:only-of-type {\n",
       "        vertical-align: middle;\n",
       "    }\n",
       "\n",
       "    .dataframe tbody tr th {\n",
       "        vertical-align: top;\n",
       "    }\n",
       "\n",
       "    .dataframe thead th {\n",
       "        text-align: right;\n",
       "    }\n",
       "</style>\n",
       "<table border=\"1\" class=\"dataframe\">\n",
       "  <thead>\n",
       "    <tr style=\"text-align: right;\">\n",
       "      <th></th>\n",
       "      <th>time</th>\n",
       "      <th>hour</th>\n",
       "      <th>height</th>\n",
       "      <th>event</th>\n",
       "    </tr>\n",
       "  </thead>\n",
       "  <tbody>\n",
       "    <tr>\n",
       "      <th>0</th>\n",
       "      <td>6:00 AM</td>\n",
       "      <td>6.0</td>\n",
       "      <td>3.932</td>\n",
       "      <td>High Tide</td>\n",
       "    </tr>\n",
       "    <tr>\n",
       "      <th>1</th>\n",
       "      <td>6:06 AM</td>\n",
       "      <td>6.1</td>\n",
       "      <td>3.932</td>\n",
       "      <td>High Tide</td>\n",
       "    </tr>\n",
       "    <tr>\n",
       "      <th>2</th>\n",
       "      <td>12:12 PM</td>\n",
       "      <td>12.2</td>\n",
       "      <td>0.289</td>\n",
       "      <td>Low Tide</td>\n",
       "    </tr>\n",
       "    <tr>\n",
       "      <th>3</th>\n",
       "      <td>6:18 PM</td>\n",
       "      <td>18.3</td>\n",
       "      <td>4.180</td>\n",
       "      <td>High Tide</td>\n",
       "    </tr>\n",
       "  </tbody>\n",
       "</table>\n",
       "</div>"
      ],
      "text/plain": [
       "       time  hour  height      event\n",
       "0   6:00 AM   6.0   3.932  High Tide\n",
       "1   6:06 AM   6.1   3.932  High Tide\n",
       "2  12:12 PM  12.2   0.289   Low Tide\n",
       "3   6:18 PM  18.3   4.180  High Tide"
      ]
     },
     "execution_count": 11,
     "metadata": {},
     "output_type": "execute_result"
    }
   ],
   "source": [
    "# Calculate times for high and low tides. \n",
    "maxima = max_tide(predictions_df['height'])\n",
    "minima = min_tide(predictions_df['height'])\n",
    "\n",
    "high_tide = predictions_df.iloc[maxima].copy()\n",
    "high_tide.loc[:, 'event'] = 'High Tide'\n",
    "\n",
    "low_tide = predictions_df.iloc[minima].copy() \n",
    "low_tide.loc[:, 'event'] = 'Low Tide'\n",
    "\n",
    "tide_table = pd.concat([high_tide, low_tide], ignore_index=True)\n",
    "\n",
    "tide_table['time'] = tide_table['hour'].apply(hour_to_time)\n",
    "tide_table = tide_table[['time', 'hour', 'height', 'event']]\n",
    "tide_table.sort_values('hour', inplace=True, ignore_index=True)\n",
    "# tide_table.index = list(range(tide_table.shape[0]))\n",
    "tide_table"
   ]
  },
  {
   "cell_type": "code",
   "execution_count": null,
   "metadata": {},
   "outputs": [],
   "source": []
  }
 ],
 "metadata": {
  "kernelspec": {
   "display_name": "Python 3",
   "language": "python",
   "name": "python3"
  },
  "language_info": {
   "codemirror_mode": {
    "name": "ipython",
    "version": 3
   },
   "file_extension": ".py",
   "mimetype": "text/x-python",
   "name": "python",
   "nbconvert_exporter": "python",
   "pygments_lexer": "ipython3",
   "version": "3.9.2"
  }
 },
 "nbformat": 4,
 "nbformat_minor": 2
}
