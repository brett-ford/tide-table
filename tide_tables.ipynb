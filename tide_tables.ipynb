{
 "cells": [
  {
   "cell_type": "markdown",
   "metadata": {},
   "source": [
    "## Tide Table for Cape Lookout"
   ]
  },
  {
   "cell_type": "code",
   "execution_count": 1,
   "metadata": {},
   "outputs": [],
   "source": [
    "# imports and settings\n",
    "import requests as req\n",
    "import datetime\n",
    "import pandas as pd  \n",
    "import numpy as np \n",
    "import matplotlib.pyplot as plt"
   ]
  },
  {
   "cell_type": "code",
   "execution_count": 2,
   "metadata": {},
   "outputs": [],
   "source": [
    "# Get today's date\n",
    "today = datetime.date.today()\n",
    "query_date = str(today).replace('-', '')"
   ]
  },
  {
   "cell_type": "code",
   "execution_count": 11,
   "metadata": {},
   "outputs": [
    {
     "name": "stdout",
     "output_type": "stream",
     "text": [
      "{'t': '2021-04-03 00:00', 'v': '4.449'}\n",
      "{'t': '2021-04-03 00:06', 'v': '4.407'}\n",
      "{'t': '2021-04-03 00:12', 'v': '4.360'}\n",
      "{'t': '2021-04-03 00:18', 'v': '4.308'}\n",
      "{'t': '2021-04-03 00:24', 'v': '4.252'}\n"
     ]
    }
   ],
   "source": [
    "# Get the data\n",
    "url = \"https://tidesandcurrents.noaa.gov/api/datagetter?begin_date={}&end_date={}&station=8656841&product=predictions&datum=MLLW&time_zone=lst&units=english&format=json\".format(query_date, query_date)\n",
    "data = req.get(url).json()  # Response object formatted as json \n",
    "\n",
    "for prediction in data['predictions'][0:5]:\n",
    "    print(prediction)"
   ]
  },
  {
   "cell_type": "code",
   "execution_count": 4,
   "metadata": {},
   "outputs": [
    {
     "data": {
      "text/html": [
       "<div>\n",
       "<style scoped>\n",
       "    .dataframe tbody tr th:only-of-type {\n",
       "        vertical-align: middle;\n",
       "    }\n",
       "\n",
       "    .dataframe tbody tr th {\n",
       "        vertical-align: top;\n",
       "    }\n",
       "\n",
       "    .dataframe thead th {\n",
       "        text-align: right;\n",
       "    }\n",
       "</style>\n",
       "<table border=\"1\" class=\"dataframe\">\n",
       "  <thead>\n",
       "    <tr style=\"text-align: right;\">\n",
       "      <th></th>\n",
       "      <th>t</th>\n",
       "      <th>v</th>\n",
       "    </tr>\n",
       "  </thead>\n",
       "  <tbody>\n",
       "    <tr>\n",
       "      <th>0</th>\n",
       "      <td>2021-04-03 00:00</td>\n",
       "      <td>4.449</td>\n",
       "    </tr>\n",
       "    <tr>\n",
       "      <th>1</th>\n",
       "      <td>2021-04-03 00:06</td>\n",
       "      <td>4.407</td>\n",
       "    </tr>\n",
       "    <tr>\n",
       "      <th>2</th>\n",
       "      <td>2021-04-03 00:12</td>\n",
       "      <td>4.360</td>\n",
       "    </tr>\n",
       "    <tr>\n",
       "      <th>3</th>\n",
       "      <td>2021-04-03 00:18</td>\n",
       "      <td>4.308</td>\n",
       "    </tr>\n",
       "    <tr>\n",
       "      <th>4</th>\n",
       "      <td>2021-04-03 00:24</td>\n",
       "      <td>4.252</td>\n",
       "    </tr>\n",
       "  </tbody>\n",
       "</table>\n",
       "</div>"
      ],
      "text/plain": [
       "                  t      v\n",
       "0  2021-04-03 00:00  4.449\n",
       "1  2021-04-03 00:06  4.407\n",
       "2  2021-04-03 00:12  4.360\n",
       "3  2021-04-03 00:18  4.308\n",
       "4  2021-04-03 00:24  4.252"
      ]
     },
     "execution_count": 4,
     "metadata": {},
     "output_type": "execute_result"
    }
   ],
   "source": [
    "# Create Pandas DataFrame\n",
    "tide_predictions = pd.DataFrame.from_dict(data['predictions'])\n",
    "tide_predictions.head()"
   ]
  },
  {
   "cell_type": "code",
   "execution_count": 5,
   "metadata": {},
   "outputs": [
    {
     "name": "stdout",
     "output_type": "stream",
     "text": [
      "<class 'pandas.core.frame.DataFrame'>\n",
      "RangeIndex: 240 entries, 0 to 239\n",
      "Data columns (total 2 columns):\n",
      " #   Column  Non-Null Count  Dtype \n",
      "---  ------  --------------  ----- \n",
      " 0   t       240 non-null    object\n",
      " 1   v       240 non-null    object\n",
      "dtypes: object(2)\n",
      "memory usage: 3.9+ KB\n"
     ]
    }
   ],
   "source": [
    "tide_predictions.info()"
   ]
  },
  {
   "cell_type": "code",
   "execution_count": 6,
   "metadata": {},
   "outputs": [
    {
     "data": {
      "text/html": [
       "<div>\n",
       "<style scoped>\n",
       "    .dataframe tbody tr th:only-of-type {\n",
       "        vertical-align: middle;\n",
       "    }\n",
       "\n",
       "    .dataframe tbody tr th {\n",
       "        vertical-align: top;\n",
       "    }\n",
       "\n",
       "    .dataframe thead th {\n",
       "        text-align: right;\n",
       "    }\n",
       "</style>\n",
       "<table border=\"1\" class=\"dataframe\">\n",
       "  <thead>\n",
       "    <tr style=\"text-align: right;\">\n",
       "      <th></th>\n",
       "      <th>Hour</th>\n",
       "      <th>Height</th>\n",
       "    </tr>\n",
       "  </thead>\n",
       "  <tbody>\n",
       "    <tr>\n",
       "      <th>0</th>\n",
       "      <td>0.0</td>\n",
       "      <td>4.449</td>\n",
       "    </tr>\n",
       "    <tr>\n",
       "      <th>1</th>\n",
       "      <td>0.1</td>\n",
       "      <td>4.407</td>\n",
       "    </tr>\n",
       "    <tr>\n",
       "      <th>2</th>\n",
       "      <td>0.2</td>\n",
       "      <td>4.360</td>\n",
       "    </tr>\n",
       "    <tr>\n",
       "      <th>3</th>\n",
       "      <td>0.3</td>\n",
       "      <td>4.308</td>\n",
       "    </tr>\n",
       "    <tr>\n",
       "      <th>4</th>\n",
       "      <td>0.4</td>\n",
       "      <td>4.252</td>\n",
       "    </tr>\n",
       "  </tbody>\n",
       "</table>\n",
       "</div>"
      ],
      "text/plain": [
       "   Hour  Height\n",
       "0   0.0   4.449\n",
       "1   0.1   4.407\n",
       "2   0.2   4.360\n",
       "3   0.3   4.308\n",
       "4   0.4   4.252"
      ]
     },
     "execution_count": 6,
     "metadata": {},
     "output_type": "execute_result"
    }
   ],
   "source": [
    "# Rename columns and change data types \n",
    "tide_predictions.columns = ['Hour', 'Height']\n",
    "tide_predictions['Hour']=tide_predictions['Hour'].str[-5:-3].astype(int) + (tide_predictions['Hour'].str[-2:].astype(int))/60\n",
    "tide_predictions['Height']=tide_predictions['Height'].astype(float)\n",
    "tide_predictions.sort_values('Hour')\n",
    "tide_predictions.head()"
   ]
  },
  {
   "cell_type": "code",
   "execution_count": 7,
   "metadata": {},
   "outputs": [
    {
     "name": "stdout",
     "output_type": "stream",
     "text": [
      "<class 'pandas.core.frame.DataFrame'>\n",
      "RangeIndex: 240 entries, 0 to 239\n",
      "Data columns (total 2 columns):\n",
      " #   Column  Non-Null Count  Dtype  \n",
      "---  ------  --------------  -----  \n",
      " 0   Hour    240 non-null    float64\n",
      " 1   Height  240 non-null    float64\n",
      "dtypes: float64(2)\n",
      "memory usage: 3.9 KB\n"
     ]
    }
   ],
   "source": [
    "tide_predictions.info()"
   ]
  },
  {
   "cell_type": "code",
   "execution_count": 8,
   "metadata": {},
   "outputs": [
    {
     "data": {
      "image/png": "[encoded data removed]",
      "text/plain": [
       "<Figure size 720x720 with 1 Axes>"
      ]
     },
     "metadata": {
      "needs_background": "light"
     },
     "output_type": "display_data"
    }
   ],
   "source": [
    "%matplotlib inline \n",
    "plt.figure(figsize=(10, 10))\n",
    "plt.plot(tide_predictions['Hour'], tide_predictions['Height'], marker='o')\n",
    "plt.ylim(-1, 6)\n",
    "plt.title(\"Tide Graph\\n{:%B %d, %Y}\".format(today), fontsize=20)\n",
    "plt.grid(axis='both')\n",
    "plt.xticks(range(0, 25))\n",
    "plt.xlabel('Hour')\n",
    "plt.show()"
   ]
  },
  {
   "cell_type": "code",
   "execution_count": 15,
   "metadata": {},
   "outputs": [
    {
     "data": {
      "text/html": [
       "<div>\n",
       "<style scoped>\n",
       "    .dataframe tbody tr th:only-of-type {\n",
       "        vertical-align: middle;\n",
       "    }\n",
       "\n",
       "    .dataframe tbody tr th {\n",
       "        vertical-align: top;\n",
       "    }\n",
       "\n",
       "    .dataframe thead th {\n",
       "        text-align: right;\n",
       "    }\n",
       "</style>\n",
       "<table border=\"1\" class=\"dataframe\">\n",
       "  <thead>\n",
       "    <tr style=\"text-align: right;\">\n",
       "      <th></th>\n",
       "      <th>Time</th>\n",
       "      <th>Hour</th>\n",
       "      <th>Height</th>\n",
       "      <th>Event</th>\n",
       "    </tr>\n",
       "  </thead>\n",
       "  <tbody>\n",
       "    <tr>\n",
       "      <th>0</th>\n",
       "      <td>5:42 AM</td>\n",
       "      <td>5.7</td>\n",
       "      <td>0.360</td>\n",
       "      <td>Low Tide</td>\n",
       "    </tr>\n",
       "    <tr>\n",
       "      <th>1</th>\n",
       "      <td>11:42 AM</td>\n",
       "      <td>11.7</td>\n",
       "      <td>3.417</td>\n",
       "      <td>High Tide</td>\n",
       "    </tr>\n",
       "    <tr>\n",
       "      <th>2</th>\n",
       "      <td>5:42 PM</td>\n",
       "      <td>17.7</td>\n",
       "      <td>0.253</td>\n",
       "      <td>Low Tide</td>\n",
       "    </tr>\n",
       "  </tbody>\n",
       "</table>\n",
       "</div>"
      ],
      "text/plain": [
       "       Time  Hour  Height      Event\n",
       "0   5:42 AM   5.7   0.360   Low Tide\n",
       "1  11:42 AM  11.7   3.417  High Tide\n",
       "2   5:42 PM  17.7   0.253   Low Tide"
      ]
     },
     "execution_count": 15,
     "metadata": {},
     "output_type": "execute_result"
    }
   ],
   "source": [
    "# Calculate times for high and low tides. \n",
    "\n",
    "def max_tide(series):\n",
    "    \"\"\"\n",
    "    Returns list of indices for which 'height' is a relative maximum.\n",
    "    \"\"\"\n",
    "    maxima = []\n",
    "    for i in range(238):\n",
    "        if series.iloc[i] <= series.iloc[i+1] and series.iloc[i+1] >= series.iloc[i+2]:\n",
    "            maxima.append(i+1)\n",
    "    return maxima\n",
    "        \n",
    "def min_tide(series):\n",
    "    \"\"\"\n",
    "    Returns list of indices for which 'height' is a relative minimum.\n",
    "    \"\"\"\n",
    "    minima = []\n",
    "    for i in range(238):\n",
    "        if series.iloc[i] >= series.iloc[i+1] and series.iloc[i+1] <= series.iloc[i+2]:\n",
    "            minima.append(i+1) \n",
    "    return minima\n",
    "\n",
    "def hour_to_time(hpm):\n",
    "    \"\"\"\n",
    "    Converts 'hours past midnight' to 'time of day'.\n",
    "    \"\"\"\n",
    "    h = int(hpm)\n",
    "    m = int(round((hpm - h) * 60, 0))\n",
    "    if h == 0 or h == 12:\n",
    "        hour = '12' \n",
    "    else:\n",
    "        hour = str(h % 12)\n",
    "    if m < 10:\n",
    "        minute = '0' + str(m)\n",
    "    else: \n",
    "        minute = str(m)\n",
    "    if h < 12:\n",
    "        meridiam = 'AM'\n",
    "    else:\n",
    "        meridiam = 'PM'\n",
    "    return  hour + ':' + minute + ' ' + meridiam\n",
    "\n",
    "\n",
    "maxima = max_tide(tide_predictions['Height'])\n",
    "minima = min_tide(tide_predictions['Height'])\n",
    "\n",
    "high_tide = tide_predictions.iloc[maxima].copy()\n",
    "high_tide.loc[:, 'Event'] = 'High Tide'\n",
    "\n",
    "low_tide = tide_predictions.iloc[minima].copy() \n",
    "low_tide.loc[:, 'Event'] = 'Low Tide'\n",
    "\n",
    "tide_table = pd.concat([high_tide, low_tide], ignore_index=True)\n",
    "\n",
    "tide_table['Time'] = tide_table['Hour'].apply(hour_to_time)\n",
    "tide_table = tide_table[['Time', 'Hour', 'Height', 'Event']]\n",
    "tide_table.sort_values('Hour', inplace=True, ignore_index=True)\n",
    "# tide_table.index = list(range(tide_table.shape[0]))\n",
    "tide_table"
   ]
  },
  {
   "cell_type": "code",
   "execution_count": null,
   "metadata": {},
   "outputs": [],
   "source": []
  }
 ],
 "metadata": {
  "kernelspec": {
   "display_name": "Python 3",
   "language": "python",
   "name": "python3"
  },
  "language_info": {
   "codemirror_mode": {
    "name": "ipython",
    "version": 3
   },
   "file_extension": ".py",
   "mimetype": "text/x-python",
   "name": "python",
   "nbconvert_exporter": "python",
   "pygments_lexer": "ipython3",
   "version": "3.9.2"
  }
 },
 "nbformat": 4,
 "nbformat_minor": 2
}
