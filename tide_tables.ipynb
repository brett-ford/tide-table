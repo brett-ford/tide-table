{
 "cells": [
  {
   "cell_type": "markdown",
   "metadata": {},
   "source": [
    "## Tide Table for Cape Lookout"
   ]
  },
  {
   "cell_type": "code",
   "execution_count": 1,
   "metadata": {},
   "outputs": [],
   "source": [
    "# Imports\n",
    "import requests as req\n",
    "import datetime\n",
    "import pandas as pd  \n",
    "import numpy as np \n",
    "import matplotlib.pyplot as plt"
   ]
  },
  {
   "cell_type": "code",
   "execution_count": 2,
   "metadata": {},
   "outputs": [],
   "source": [
    "# Get today's date\n",
    "today = datetime.date.today()\n",
    "query_date = str(today).replace('-', '')"
   ]
  },
  {
   "cell_type": "code",
   "execution_count": 3,
   "metadata": {},
   "outputs": [
    {
     "name": "stdout",
     "output_type": "stream",
     "text": [
      "{'t': '2019-08-29 00:00', 'v': '0.247'}\n",
      "{'t': '2019-08-29 00:06', 'v': '0.269'}\n",
      "{'t': '2019-08-29 00:12', 'v': '0.296'}\n",
      "{'t': '2019-08-29 00:18', 'v': '0.328'}\n",
      "{'t': '2019-08-29 00:24', 'v': '0.364'}\n",
      "{'t': '2019-08-29 00:30', 'v': '0.405'}\n",
      "{'t': '2019-08-29 00:36', 'v': '0.450'}\n",
      "{'t': '2019-08-29 00:42', 'v': '0.500'}\n",
      "{'t': '2019-08-29 00:48', 'v': '0.554'}\n",
      "{'t': '2019-08-29 00:54', 'v': '0.612'}\n"
     ]
    }
   ],
   "source": [
    "# Get the data\n",
    "url = \"https://tidesandcurrents.noaa.gov/api/datagetter?begin_date={}&end_date={}&station=8656841&product=predictions&datum=MLLW&time_zone=lst&units=english&format=json\".format(query_date, query_date)\n",
    "noaa_response = req.get(url)  # Response object \n",
    "data = noaa_response.json()  # To json \n",
    "\n",
    "for prediction in data['predictions'][0:10]:\n",
    "    print(prediction)"
   ]
  },
  {
   "cell_type": "code",
   "execution_count": 4,
   "metadata": {},
   "outputs": [
    {
     "data": {
      "text/html": [
       "<div>\n",
       "<style scoped>\n",
       "    .dataframe tbody tr th:only-of-type {\n",
       "        vertical-align: middle;\n",
       "    }\n",
       "\n",
       "    .dataframe tbody tr th {\n",
       "        vertical-align: top;\n",
       "    }\n",
       "\n",
       "    .dataframe thead th {\n",
       "        text-align: right;\n",
       "    }\n",
       "</style>\n",
       "<table border=\"1\" class=\"dataframe\">\n",
       "  <thead>\n",
       "    <tr style=\"text-align: right;\">\n",
       "      <th></th>\n",
       "      <th>t</th>\n",
       "      <th>v</th>\n",
       "    </tr>\n",
       "  </thead>\n",
       "  <tbody>\n",
       "    <tr>\n",
       "      <th>0</th>\n",
       "      <td>2019-08-29 00:00</td>\n",
       "      <td>0.247</td>\n",
       "    </tr>\n",
       "    <tr>\n",
       "      <th>1</th>\n",
       "      <td>2019-08-29 00:06</td>\n",
       "      <td>0.269</td>\n",
       "    </tr>\n",
       "    <tr>\n",
       "      <th>2</th>\n",
       "      <td>2019-08-29 00:12</td>\n",
       "      <td>0.296</td>\n",
       "    </tr>\n",
       "    <tr>\n",
       "      <th>3</th>\n",
       "      <td>2019-08-29 00:18</td>\n",
       "      <td>0.328</td>\n",
       "    </tr>\n",
       "    <tr>\n",
       "      <th>4</th>\n",
       "      <td>2019-08-29 00:24</td>\n",
       "      <td>0.364</td>\n",
       "    </tr>\n",
       "  </tbody>\n",
       "</table>\n",
       "</div>"
      ],
      "text/plain": [
       "                  t      v\n",
       "0  2019-08-29 00:00  0.247\n",
       "1  2019-08-29 00:06  0.269\n",
       "2  2019-08-29 00:12  0.296\n",
       "3  2019-08-29 00:18  0.328\n",
       "4  2019-08-29 00:24  0.364"
      ]
     },
     "execution_count": 4,
     "metadata": {},
     "output_type": "execute_result"
    }
   ],
   "source": [
    "# Create Pandas DataFrame\n",
    "tide_predictions = pd.DataFrame.from_dict(data['predictions'])\n",
    "tide_predictions.head()"
   ]
  },
  {
   "cell_type": "code",
   "execution_count": 5,
   "metadata": {},
   "outputs": [
    {
     "name": "stdout",
     "output_type": "stream",
     "text": [
      "<class 'pandas.core.frame.DataFrame'>\n",
      "RangeIndex: 240 entries, 0 to 239\n",
      "Data columns (total 2 columns):\n",
      "t    240 non-null object\n",
      "v    240 non-null object\n",
      "dtypes: object(2)\n",
      "memory usage: 3.8+ KB\n"
     ]
    }
   ],
   "source": [
    "tide_predictions.info()"
   ]
  },
  {
   "cell_type": "code",
   "execution_count": 6,
   "metadata": {},
   "outputs": [
    {
     "data": {
      "text/html": [
       "<div>\n",
       "<style scoped>\n",
       "    .dataframe tbody tr th:only-of-type {\n",
       "        vertical-align: middle;\n",
       "    }\n",
       "\n",
       "    .dataframe tbody tr th {\n",
       "        vertical-align: top;\n",
       "    }\n",
       "\n",
       "    .dataframe thead th {\n",
       "        text-align: right;\n",
       "    }\n",
       "</style>\n",
       "<table border=\"1\" class=\"dataframe\">\n",
       "  <thead>\n",
       "    <tr style=\"text-align: right;\">\n",
       "      <th></th>\n",
       "      <th>Hour</th>\n",
       "      <th>Height</th>\n",
       "    </tr>\n",
       "  </thead>\n",
       "  <tbody>\n",
       "    <tr>\n",
       "      <th>0</th>\n",
       "      <td>0.0</td>\n",
       "      <td>0.247</td>\n",
       "    </tr>\n",
       "    <tr>\n",
       "      <th>1</th>\n",
       "      <td>0.1</td>\n",
       "      <td>0.269</td>\n",
       "    </tr>\n",
       "    <tr>\n",
       "      <th>2</th>\n",
       "      <td>0.2</td>\n",
       "      <td>0.296</td>\n",
       "    </tr>\n",
       "    <tr>\n",
       "      <th>3</th>\n",
       "      <td>0.3</td>\n",
       "      <td>0.328</td>\n",
       "    </tr>\n",
       "    <tr>\n",
       "      <th>4</th>\n",
       "      <td>0.4</td>\n",
       "      <td>0.364</td>\n",
       "    </tr>\n",
       "  </tbody>\n",
       "</table>\n",
       "</div>"
      ],
      "text/plain": [
       "   Hour  Height\n",
       "0   0.0   0.247\n",
       "1   0.1   0.269\n",
       "2   0.2   0.296\n",
       "3   0.3   0.328\n",
       "4   0.4   0.364"
      ]
     },
     "execution_count": 6,
     "metadata": {},
     "output_type": "execute_result"
    }
   ],
   "source": [
    "# Rename columns and change data types \n",
    "tide_predictions.columns = ['Hour', 'Height']\n",
    "tide_predictions['Hour']=tide_predictions['Hour'].str[-5:-3].astype(int) + (tide_predictions['Hour'].str[-2:].astype(int))/60\n",
    "tide_predictions['Height']=tide_predictions['Height'].astype(float)\n",
    "tide_predictions.sort_values('Hour')\n",
    "tide_predictions.head()"
   ]
  },
  {
   "cell_type": "code",
   "execution_count": 7,
   "metadata": {},
   "outputs": [
    {
     "name": "stdout",
     "output_type": "stream",
     "text": [
      "<class 'pandas.core.frame.DataFrame'>\n",
      "RangeIndex: 240 entries, 0 to 239\n",
      "Data columns (total 2 columns):\n",
      "Hour      240 non-null float64\n",
      "Height    240 non-null float64\n",
      "dtypes: float64(2)\n",
      "memory usage: 3.8 KB\n"
     ]
    }
   ],
   "source": [
    "tide_predictions.info()"
   ]
  },
  {
   "cell_type": "code",
   "execution_count": 8,
   "metadata": {},
   "outputs": [
    {
     "data": {
      "image/png": "[encoded data removed]",
      "text/plain": [
       "<Figure size 720x720 with 1 Axes>"
      ]
     },
     "metadata": {
      "needs_background": "light"
     },
     "output_type": "display_data"
    }
   ],
   "source": [
    "%matplotlib inline \n",
    "plt.figure(figsize=(10, 10))\n",
    "plt.plot(tide_predictions['Hour'], tide_predictions['Height'], marker='o')\n",
    "plt.ylim(-1, 6)\n",
    "plt.title(\"Tide Graph\\n{:%B %d, %Y}\".format(today), fontsize=20)\n",
    "plt.grid(axis='both')\n",
    "plt.xticks(range(0, 25))\n",
    "plt.xlabel('Hour')\n",
    "plt.show()"
   ]
  },
  {
   "cell_type": "code",
   "execution_count": 32,
   "metadata": {},
   "outputs": [
    {
     "name": "stderr",
     "output_type": "stream",
     "text": [
      "/Library/Frameworks/Python.framework/Versions/3.7/lib/python3.7/site-packages/ipykernel_launcher.py:38: SettingWithCopyWarning: \n",
      "A value is trying to be set on a copy of a slice from a DataFrame.\n",
      "Try using .loc[row_indexer,col_indexer] = value instead\n",
      "\n",
      "See the caveats in the documentation: http://pandas.pydata.org/pandas-docs/stable/indexing.html#indexing-view-versus-copy\n",
      "/Library/Frameworks/Python.framework/Versions/3.7/lib/python3.7/site-packages/ipykernel_launcher.py:41: SettingWithCopyWarning: \n",
      "A value is trying to be set on a copy of a slice from a DataFrame.\n",
      "Try using .loc[row_indexer,col_indexer] = value instead\n",
      "\n",
      "See the caveats in the documentation: http://pandas.pydata.org/pandas-docs/stable/indexing.html#indexing-view-versus-copy\n"
     ]
    },
    {
     "data": {
      "text/html": [
       "<div>\n",
       "<style scoped>\n",
       "    .dataframe tbody tr th:only-of-type {\n",
       "        vertical-align: middle;\n",
       "    }\n",
       "\n",
       "    .dataframe tbody tr th {\n",
       "        vertical-align: top;\n",
       "    }\n",
       "\n",
       "    .dataframe thead th {\n",
       "        text-align: right;\n",
       "    }\n",
       "</style>\n",
       "<table border=\"1\" class=\"dataframe\">\n",
       "  <thead>\n",
       "    <tr style=\"text-align: right;\">\n",
       "      <th></th>\n",
       "      <th>Time</th>\n",
       "      <th>Hour</th>\n",
       "      <th>Height</th>\n",
       "      <th>Event</th>\n",
       "    </tr>\n",
       "  </thead>\n",
       "  <tbody>\n",
       "    <tr>\n",
       "      <th>0</th>\n",
       "      <td>5:42 am</td>\n",
       "      <td>5.7</td>\n",
       "      <td>4.418</td>\n",
       "      <td>High Tide</td>\n",
       "    </tr>\n",
       "    <tr>\n",
       "      <th>1</th>\n",
       "      <td>11:42 am</td>\n",
       "      <td>11.7</td>\n",
       "      <td>-0.141</td>\n",
       "      <td>Low Tide</td>\n",
       "    </tr>\n",
       "    <tr>\n",
       "      <th>2</th>\n",
       "      <td>11:48 am</td>\n",
       "      <td>11.8</td>\n",
       "      <td>-0.141</td>\n",
       "      <td>Low Tide</td>\n",
       "    </tr>\n",
       "    <tr>\n",
       "      <th>3</th>\n",
       "      <td>6:12 pm</td>\n",
       "      <td>18.2</td>\n",
       "      <td>5.241</td>\n",
       "      <td>High Tide</td>\n",
       "    </tr>\n",
       "  </tbody>\n",
       "</table>\n",
       "</div>"
      ],
      "text/plain": [
       "       Time  Hour  Height      Event\n",
       "0   5:42 am   5.7   4.418  High Tide\n",
       "1  11:42 am  11.7  -0.141   Low Tide\n",
       "2  11:48 am  11.8  -0.141   Low Tide\n",
       "3   6:12 pm  18.2   5.241  High Tide"
      ]
     },
     "execution_count": 32,
     "metadata": {},
     "output_type": "execute_result"
    }
   ],
   "source": [
    "# Calculate times for high and low tides. \n",
    "\n",
    "def max_tide(series):\n",
    "    \"\"\"Returns list of indices for which 'height' is a relative maximum.\"\"\"\n",
    "    maxima = []\n",
    "    for i in range(238):\n",
    "        if series.iloc[i] <= series.iloc[i+1] and series.iloc[i+1] >= series.iloc[i+2]:\n",
    "            maxima.append(i+1)\n",
    "    return maxima\n",
    "        \n",
    "            \n",
    "def min_tide(series):\n",
    "    \"\"\"Returns list of indices for which 'height' is a relative minimum.\"\"\"\n",
    "    minima = []\n",
    "    for i in range(238):\n",
    "        if series.iloc[i] >= series.iloc[i+1] and series.iloc[i+1] <= series.iloc[i+2]:\n",
    "            minima.append(i+1) \n",
    "    return minima\n",
    "\n",
    "\n",
    "def hour_to_time(h):\n",
    "    \"\"\"Converts 'hours past midnight' to 'time of day'.\"\"\"\n",
    "    hour = int(h)\n",
    "    minute = int(round((h - hour) * 60, 0))\n",
    "    if hour == 0:\n",
    "        return str(12) + ':' + str(minute) + ' am'\n",
    "    if hour < 12:\n",
    "        return str(hour) + ':' + str(minute) + ' am'\n",
    "    if hour == 12:\n",
    "        return str(12) + ':' + str(minute) + ' pm'\n",
    "    return str(hour % 12) + ':' + str(minute) + ' pm'\n",
    "\n",
    "\n",
    "maxima = max_tide(tide_predictions['Height'])\n",
    "minima = min_tide(tide_predictions['Height'])\n",
    "\n",
    "high_tide = tide_predictions.iloc[maxima]\n",
    "high_tide['Event'] = 'High Tide'\n",
    "\n",
    "low_tide = tide_predictions.iloc[minima]\n",
    "low_tide['Event'] = 'Low Tide'\n",
    "\n",
    "tide_table = pd.concat([high_tide, low_tide], ignore_index=True)\n",
    "\n",
    "tide_table['Time'] = tide_table['Hour'].apply(hour_to_time)\n",
    "tide_table = tide_table[['Time', 'Hour', 'Height', 'Event']]\n",
    "tide_table.sort_values('Hour', inplace=True)\n",
    "tide_table.index = [0, 1, 2, 3]\n",
    "tide_table\n"
   ]
  },
  {
   "cell_type": "code",
   "execution_count": null,
   "metadata": {},
   "outputs": [],
   "source": []
  }
 ],
 "metadata": {
  "kernelspec": {
   "display_name": "Python 3",
   "language": "python",
   "name": "python3"
  },
  "language_info": {
   "codemirror_mode": {
    "name": "ipython",
    "version": 3
   },
   "file_extension": ".py",
   "mimetype": "text/x-python",
   "name": "python",
   "nbconvert_exporter": "python",
   "pygments_lexer": "ipython3",
   "version": "3.7.2"
  }
 },
 "nbformat": 4,
 "nbformat_minor": 2
}
